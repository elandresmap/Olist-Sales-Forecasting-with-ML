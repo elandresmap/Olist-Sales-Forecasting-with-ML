{
 "cells": [
  {
   "cell_type": "code",
   "execution_count": 7,
   "id": "86df6cfe-49cf-4f4f-8d8c-a2ec81a610a2",
   "metadata": {},
   "outputs": [
    {
     "name": "stdout",
     "output_type": "stream",
     "text": [
      "Defaulting to user installation because normal site-packages is not writeable\n",
      "Requirement already satisfied: ipython-sql in c:\\users\\andres\\appdata\\roaming\\python\\python313\\site-packages (0.5.0)\n",
      "Requirement already satisfied: prettytable in c:\\users\\andres\\appdata\\roaming\\python\\python313\\site-packages (from ipython-sql) (3.16.0)\n",
      "Requirement already satisfied: ipython in c:\\programdata\\anaconda3\\lib\\site-packages (from ipython-sql) (8.30.0)\n",
      "Requirement already satisfied: sqlalchemy>=2.0 in c:\\programdata\\anaconda3\\lib\\site-packages (from ipython-sql) (2.0.39)\n",
      "Requirement already satisfied: sqlparse in c:\\users\\andres\\appdata\\roaming\\python\\python313\\site-packages (from ipython-sql) (0.5.3)\n",
      "Requirement already satisfied: six in c:\\programdata\\anaconda3\\lib\\site-packages (from ipython-sql) (1.17.0)\n",
      "Requirement already satisfied: ipython-genutils in c:\\users\\andres\\appdata\\roaming\\python\\python313\\site-packages (from ipython-sql) (0.2.0)\n",
      "Requirement already satisfied: greenlet!=0.4.17 in c:\\programdata\\anaconda3\\lib\\site-packages (from sqlalchemy>=2.0->ipython-sql) (3.1.1)\n",
      "Requirement already satisfied: typing-extensions>=4.6.0 in c:\\programdata\\anaconda3\\lib\\site-packages (from sqlalchemy>=2.0->ipython-sql) (4.12.2)\n",
      "Requirement already satisfied: decorator in c:\\programdata\\anaconda3\\lib\\site-packages (from ipython->ipython-sql) (5.1.1)\n",
      "Requirement already satisfied: jedi>=0.16 in c:\\programdata\\anaconda3\\lib\\site-packages (from ipython->ipython-sql) (0.19.2)\n",
      "Requirement already satisfied: matplotlib-inline in c:\\programdata\\anaconda3\\lib\\site-packages (from ipython->ipython-sql) (0.1.6)\n",
      "Requirement already satisfied: prompt-toolkit<3.1.0,>=3.0.41 in c:\\programdata\\anaconda3\\lib\\site-packages (from ipython->ipython-sql) (3.0.43)\n",
      "Requirement already satisfied: pygments>=2.4.0 in c:\\programdata\\anaconda3\\lib\\site-packages (from ipython->ipython-sql) (2.19.1)\n",
      "Requirement already satisfied: stack-data in c:\\programdata\\anaconda3\\lib\\site-packages (from ipython->ipython-sql) (0.2.0)\n",
      "Requirement already satisfied: traitlets>=5.13.0 in c:\\programdata\\anaconda3\\lib\\site-packages (from ipython->ipython-sql) (5.14.3)\n",
      "Requirement already satisfied: colorama in c:\\programdata\\anaconda3\\lib\\site-packages (from ipython->ipython-sql) (0.4.6)\n",
      "Requirement already satisfied: wcwidth in c:\\programdata\\anaconda3\\lib\\site-packages (from prompt-toolkit<3.1.0,>=3.0.41->ipython->ipython-sql) (0.2.5)\n",
      "Requirement already satisfied: parso<0.9.0,>=0.8.4 in c:\\programdata\\anaconda3\\lib\\site-packages (from jedi>=0.16->ipython->ipython-sql) (0.8.4)\n",
      "Requirement already satisfied: executing in c:\\programdata\\anaconda3\\lib\\site-packages (from stack-data->ipython->ipython-sql) (0.8.3)\n",
      "Requirement already satisfied: asttokens in c:\\programdata\\anaconda3\\lib\\site-packages (from stack-data->ipython->ipython-sql) (3.0.0)\n",
      "Requirement already satisfied: pure-eval in c:\\programdata\\anaconda3\\lib\\site-packages (from stack-data->ipython->ipython-sql) (0.2.2)\n"
     ]
    }
   ],
   "source": [
    "import sys\n",
    "!{sys.executable} -m pip install ipython-sql"
   ]
  },
  {
   "cell_type": "code",
   "execution_count": 9,
   "id": "60953e88-69b3-43d6-a707-efe7d72934c7",
   "metadata": {},
   "outputs": [
    {
     "name": "stdout",
     "output_type": "stream",
     "text": [
      "The sql extension is already loaded. To reload it, use:\n",
      "  %reload_ext sql\n"
     ]
    }
   ],
   "source": [
    "%load_ext sql"
   ]
  },
  {
   "cell_type": "code",
   "execution_count": 11,
   "id": "7bbb9160-5ddc-4c92-9c0d-34c138a613df",
   "metadata": {},
   "outputs": [
    {
     "name": "stdout",
     "output_type": "stream",
     "text": [
      "Defaulting to user installation because normal site-packages is not writeable\n",
      "Requirement already satisfied: ipython-sql in c:\\users\\andres\\appdata\\roaming\\python\\python313\\site-packages (0.5.0)\n",
      "Collecting psycopg2-binary\n",
      "  Downloading psycopg2_binary-2.9.10-cp313-cp313-win_amd64.whl.metadata (4.8 kB)\n",
      "Requirement already satisfied: prettytable in c:\\users\\andres\\appdata\\roaming\\python\\python313\\site-packages (from ipython-sql) (3.16.0)\n",
      "Requirement already satisfied: ipython in c:\\programdata\\anaconda3\\lib\\site-packages (from ipython-sql) (8.30.0)\n",
      "Requirement already satisfied: sqlalchemy>=2.0 in c:\\programdata\\anaconda3\\lib\\site-packages (from ipython-sql) (2.0.39)\n",
      "Requirement already satisfied: sqlparse in c:\\users\\andres\\appdata\\roaming\\python\\python313\\site-packages (from ipython-sql) (0.5.3)\n",
      "Requirement already satisfied: six in c:\\programdata\\anaconda3\\lib\\site-packages (from ipython-sql) (1.17.0)\n",
      "Requirement already satisfied: ipython-genutils in c:\\users\\andres\\appdata\\roaming\\python\\python313\\site-packages (from ipython-sql) (0.2.0)\n",
      "Requirement already satisfied: greenlet!=0.4.17 in c:\\programdata\\anaconda3\\lib\\site-packages (from sqlalchemy>=2.0->ipython-sql) (3.1.1)\n",
      "Requirement already satisfied: typing-extensions>=4.6.0 in c:\\programdata\\anaconda3\\lib\\site-packages (from sqlalchemy>=2.0->ipython-sql) (4.12.2)\n",
      "Requirement already satisfied: decorator in c:\\programdata\\anaconda3\\lib\\site-packages (from ipython->ipython-sql) (5.1.1)\n",
      "Requirement already satisfied: jedi>=0.16 in c:\\programdata\\anaconda3\\lib\\site-packages (from ipython->ipython-sql) (0.19.2)\n",
      "Requirement already satisfied: matplotlib-inline in c:\\programdata\\anaconda3\\lib\\site-packages (from ipython->ipython-sql) (0.1.6)\n",
      "Requirement already satisfied: prompt-toolkit<3.1.0,>=3.0.41 in c:\\programdata\\anaconda3\\lib\\site-packages (from ipython->ipython-sql) (3.0.43)\n",
      "Requirement already satisfied: pygments>=2.4.0 in c:\\programdata\\anaconda3\\lib\\site-packages (from ipython->ipython-sql) (2.19.1)\n",
      "Requirement already satisfied: stack-data in c:\\programdata\\anaconda3\\lib\\site-packages (from ipython->ipython-sql) (0.2.0)\n",
      "Requirement already satisfied: traitlets>=5.13.0 in c:\\programdata\\anaconda3\\lib\\site-packages (from ipython->ipython-sql) (5.14.3)\n",
      "Requirement already satisfied: colorama in c:\\programdata\\anaconda3\\lib\\site-packages (from ipython->ipython-sql) (0.4.6)\n",
      "Requirement already satisfied: wcwidth in c:\\programdata\\anaconda3\\lib\\site-packages (from prompt-toolkit<3.1.0,>=3.0.41->ipython->ipython-sql) (0.2.5)\n",
      "Requirement already satisfied: parso<0.9.0,>=0.8.4 in c:\\programdata\\anaconda3\\lib\\site-packages (from jedi>=0.16->ipython->ipython-sql) (0.8.4)\n",
      "Requirement already satisfied: executing in c:\\programdata\\anaconda3\\lib\\site-packages (from stack-data->ipython->ipython-sql) (0.8.3)\n",
      "Requirement already satisfied: asttokens in c:\\programdata\\anaconda3\\lib\\site-packages (from stack-data->ipython->ipython-sql) (3.0.0)\n",
      "Requirement already satisfied: pure-eval in c:\\programdata\\anaconda3\\lib\\site-packages (from stack-data->ipython->ipython-sql) (0.2.2)\n",
      "Downloading psycopg2_binary-2.9.10-cp313-cp313-win_amd64.whl (2.6 MB)\n",
      "   ---------------------------------------- 0.0/2.6 MB ? eta -:--:--\n",
      "   ---------------------------------------- 2.6/2.6 MB 24.7 MB/s eta 0:00:00\n",
      "Installing collected packages: psycopg2-binary\n",
      "Successfully installed psycopg2-binary-2.9.10\n"
     ]
    }
   ],
   "source": [
    "import sys\n",
    "!{sys.executable} -m pip install ipython-sql psycopg2-binary"
   ]
  },
  {
   "cell_type": "code",
   "execution_count": 20,
   "id": "c105dfac-e965-4c29-8443-37a4eb218cf0",
   "metadata": {},
   "outputs": [],
   "source": [
    "from sqlalchemy import create_engine\n",
    "dbname=\"Olist\"\n",
    "user=\"postgres\"\n",
    "password=\"Espinosa2025\"\n",
    "host=\"localhost\"\n",
    "port=\"5432\"\n",
    "\n",
    "# Crear motor de conexión\n",
    "engine = create_engine(f\"postgresql+psycopg2://{user}:{password}@{host}:{port}/{dbname}\")"
   ]
  },
  {
   "cell_type": "code",
   "execution_count": 21,
   "id": "8f120cd6-c7d7-4648-8b4b-d51e3efe6568",
   "metadata": {},
   "outputs": [
    {
     "name": "stdout",
     "output_type": "stream",
     "text": [
      "   customer_state  no_of_customers\n",
      "0              SP            41746\n",
      "1              RJ            12852\n",
      "2              MG            11635\n",
      "3              RS             5466\n",
      "4              PR             5045\n",
      "5              SC             3637\n",
      "6              BA             3380\n",
      "7              DF             2140\n",
      "8              ES             2033\n",
      "9              GO             2020\n",
      "10             PE             1652\n",
      "11             CE             1336\n",
      "12             PA              975\n",
      "13             MT              907\n",
      "14             MA              747\n",
      "15             MS              715\n",
      "16             PB              536\n",
      "17             PI              495\n",
      "18             RN              485\n",
      "19             AL              413\n",
      "20             SE              350\n",
      "21             TO              280\n",
      "22             RO              253\n",
      "23             AM              148\n",
      "24             AC               81\n",
      "25             AP               68\n",
      "26             RR               46\n"
     ]
    }
   ],
   "source": [
    "import pandas as pd \n",
    "query = \"\"\"\n",
    "SELECT customer_state,\n",
    "    COUNT(customer_unique_id) AS no_of_customers\n",
    "FROM customers\n",
    "GROUP BY customer_state\n",
    "ORDER BY no_of_customers DESC;\n",
    "\"\"\"\n",
    "#Este analisis nos dice la cantidad de clientes que tiene OLIST por estado\n",
    "\n",
    "# Ejecutar consulta\n",
    "df = pd.read_sql_query(query, engine)\n",
    "\n",
    "# Mostrar los resultados\n",
    "print(df)"
   ]
  },
  {
   "cell_type": "code",
   "execution_count": 23,
   "id": "8d9700ab-c7a8-4b4a-8204-079e22982f55",
   "metadata": {},
   "outputs": [
    {
     "name": "stdout",
     "output_type": "stream",
     "text": [
      "         product_category  units\n",
      "0         cama_mesa_banho  13665\n",
      "1        moveis_decoracao  11540\n",
      "2            beleza_saude  11081\n",
      "3           esporte_lazer   9932\n",
      "4  informatica_acessorios   9874\n",
      "5   utilidades_domesticas   9051\n",
      "6      relogios_presentes   6594\n",
      "7      ferramentas_jardim   5874\n",
      "8               telefonia   5161\n",
      "9              automotivo   4881\n"
     ]
    }
   ],
   "source": [
    "#Top 10 Productos mas ordenados por los clientes\n",
    "\n",
    "query = \"\"\"\n",
    "WITH customer_items AS (\n",
    "    SELECT *\n",
    "    FROM customers\n",
    "    JOIN orders USING(customer_id)\n",
    "    JOIN order_items USING(order_id)\n",
    "    JOIN products USING(product_id)\n",
    ")\n",
    "SELECT product_category,\n",
    "       SUM(order_item_id) AS units\n",
    "FROM customer_items\n",
    "GROUP BY product_category\n",
    "ORDER BY units DESC\n",
    "LIMIT 10;\n",
    "\"\"\"\n",
    "\n",
    "# 🚀 Ejecutar consulta y guardar en DataFrame\n",
    "df = pd.read_sql_query(query, engine)\n",
    "\n",
    "# 📊 Mostrar resultados\n",
    "print(df)"
   ]
  },
  {
   "cell_type": "code",
   "execution_count": 24,
   "id": "bfe0b5a4-c08d-42ba-937c-9bda26a3455d",
   "metadata": {},
   "outputs": [
    {
     "name": "stdout",
     "output_type": "stream",
     "text": [
      "  payment_type  cantidad_clientes\n",
      "0  credit_card              76505\n",
      "1       boleto              19784\n",
      "2      voucher               3866\n",
      "3   debit_card               1528\n",
      "4  not_defined                  3\n"
     ]
    }
   ],
   "source": [
    "# 🧠 Consulta SQL para distribución de métodos de pago por cliente\n",
    "query = '''\n",
    "SELECT payment_type,\n",
    "       COUNT(DISTINCT customer_id) AS cantidad_clientes\n",
    "FROM orders AS o\n",
    "JOIN order_payments AS p USING(order_id)\n",
    "JOIN customers AS c USING(customer_id)\n",
    "GROUP BY payment_type\n",
    "ORDER BY cantidad_clientes DESC;\n",
    "'''\n",
    "\n",
    "# 🚀 Ejecutar consulta y guardar en DataFrame\n",
    "df = pd.read_sql_query(query, engine)\n",
    "\n",
    "# 📊 Mostrar resultados\n",
    "print(df)"
   ]
  },
  {
   "cell_type": "markdown",
   "id": "2be19210-a9fd-4977-bf74-549f4a5e9e88",
   "metadata": {},
   "source": [
    "# Análisis productos"
   ]
  },
  {
   "cell_type": "code",
   "execution_count": 36,
   "id": "d8e9753b-c226-44fe-967b-0d4aef916d55",
   "metadata": {},
   "outputs": [
    {
     "name": "stdout",
     "output_type": "stream",
     "text": [
      "    month  difference\n",
      "0       6   16.024807\n",
      "1       7   10.879737\n",
      "2       2    9.620979\n",
      "3       1   13.384960\n",
      "4      11    7.266603\n",
      "5       8    9.200588\n",
      "6       5   11.707500\n",
      "7       9   10.389063\n",
      "8      10   12.356947\n",
      "9      12   12.093943\n",
      "10      4   11.974069\n",
      "11      3    7.172164\n"
     ]
    }
   ],
   "source": [
    "# Este análisis nos muestra la diferencia promedio (en días) entre la fecha estimada\n",
    "# de entrega y la fecha real de entrega, agrupado por mes de compra.\n",
    "query = \"\"\"\n",
    "SELECT month,\n",
    "       AVG(deviation_from_estimated)::real AS difference\n",
    "FROM (\n",
    "    SELECT EXTRACT(MONTH FROM order_purchase)::int AS month,\n",
    "           EXTRACT('days' FROM order_estimated_delivery - order_delivered_customer)::int AS deviation_from_estimated\n",
    "    FROM orders\n",
    "    WHERE order_status = 'delivered'\n",
    ") AS diff\n",
    "GROUP BY month\"\"\"\n",
    "\n",
    "# 🚀 Ejecutar consulta y guardar en DataFrame\n",
    "df = pd.read_sql_query(query, engine)\n",
    "\n",
    "# 📊 Mostrar resultados\n",
    "print(df)"
   ]
  },
  {
   "cell_type": "code",
   "execution_count": 42,
   "id": "4a5d0d35-f31d-42a6-a2aa-bc43a0c311fb",
   "metadata": {},
   "outputs": [
    {
     "name": "stdout",
     "output_type": "stream",
     "text": [
      "   customer_state  avg_delivery_time_days\n",
      "0              RR               28.975609\n",
      "1              AP               26.731344\n",
      "2              AM               25.986206\n",
      "3              AL               24.040302\n",
      "4              PA               23.316067\n",
      "5              MA               21.117155\n",
      "6              SE               21.029850\n",
      "7              CE               20.817827\n",
      "8              AC               20.637500\n",
      "9              PB               19.953579\n",
      "10             PI               18.993698\n",
      "11             RO               18.913580\n",
      "12             BA               18.866400\n",
      "13             RN               18.824894\n",
      "14             PE               17.965473\n",
      "15             MT               17.593680\n",
      "16             TO               17.226278\n",
      "17             ES               15.331830\n",
      "18             MS               15.191155\n",
      "19             GO               15.150741\n",
      "20             RJ               14.848583\n",
      "21             RS               14.819237\n",
      "22             SC               14.475183\n",
      "23             DF               12.509134\n",
      "24             MG               11.542188\n",
      "25             PR               11.526711\n",
      "26             SP                8.298094\n"
     ]
    }
   ],
   "source": [
    "# Este análisis nos muestra el tiempo promedio de entrega (en días)\n",
    "# desde la fecha de compra hasta la fecha de entrega,\n",
    "# agrupado por estado del cliente.\n",
    "\n",
    "query = \"\"\"\n",
    "SELECT delivery_time.customer_state,\n",
    "       AVG(delivery_time.delivery_in_days)::real AS avg_delivery_time_days\n",
    "FROM (\n",
    "    SELECT cu.customer_state,\n",
    "           EXTRACT('days' FROM od.order_delivered_customer - od.order_purchase)::int AS delivery_in_days\n",
    "    FROM orders AS od\n",
    "    JOIN customers AS cu ON od.customer_id = cu.customer_id\n",
    "    WHERE order_status = 'delivered'\n",
    ") AS delivery_time\n",
    "GROUP BY customer_state\n",
    "ORDER BY avg_delivery_time_days DESC;\n",
    "\"\"\"\n",
    "\n",
    "# Ejecutar consulta\n",
    "df = pd.read_sql_query(query, engine)\n",
    "\n",
    "# Mostrar los resultados\n",
    "print(df)"
   ]
  },
  {
   "cell_type": "code",
   "execution_count": 43,
   "id": "bdb3249a-f3fd-4eb5-b308-adbae9e975f7",
   "metadata": {},
   "outputs": [
    {
     "name": "stdout",
     "output_type": "stream",
     "text": [
      "   customer_state  product_category  total_sold\n",
      "0              SP   cama_mesa_banho        5157\n",
      "1              RJ   cama_mesa_banho        1605\n",
      "2              MG   cama_mesa_banho        1322\n",
      "3              RS   cama_mesa_banho         611\n",
      "4              PR  moveis_decoracao         516\n",
      "5              SC     esporte_lazer         356\n",
      "6              BA      beleza_saude         340\n",
      "7              DF      beleza_saude         242\n",
      "8              PE      beleza_saude         233\n",
      "9              GO   cama_mesa_banho         231\n",
      "10             ES   cama_mesa_banho         223\n",
      "11             CE      beleza_saude         162\n",
      "12             PA      beleza_saude         105\n",
      "13             MT      beleza_saude          89\n",
      "14             MA      beleza_saude          88\n",
      "15             PB      beleza_saude          76\n",
      "16             MS     esporte_lazer          74\n",
      "17             AL      beleza_saude          62\n",
      "18             RN      beleza_saude          57\n",
      "19             PI      beleza_saude          53\n",
      "20             SE      beleza_saude          38\n",
      "21             TO      beleza_saude          36\n",
      "22             RO      beleza_saude          25\n",
      "23             AM      beleza_saude          20\n",
      "24             AC  moveis_decoracao          12\n",
      "25             AP      beleza_saude          10\n",
      "26             RR     esporte_lazer           8\n"
     ]
    }
   ],
   "source": [
    "# Este análisis nos muestra el producto más vendido en cada estado,\n",
    "# tomando en cuenta únicamente las órdenes entregadas.\n",
    "query = \"\"\"\n",
    "WITH sales AS (\n",
    "    SELECT cu.customer_state,\n",
    "           pr.product_category,\n",
    "           COUNT(oi.product_id) AS total_sold\n",
    "    FROM customers AS cu\n",
    "    JOIN orders AS o ON cu.customer_id = o.customer_id\n",
    "    JOIN order_items AS oi ON o.order_id = oi.order_id\n",
    "    JOIN products AS pr ON oi.product_id = pr.product_id\n",
    "    WHERE o.order_status = 'delivered'\n",
    "    GROUP BY cu.customer_state, pr.product_category\n",
    ")\n",
    "SELECT customer_state, product_category, total_sold\n",
    "FROM (\n",
    "    SELECT customer_state,\n",
    "           product_category,\n",
    "           total_sold,\n",
    "           ROW_NUMBER() OVER (PARTITION BY customer_state ORDER BY total_sold DESC) AS rank\n",
    "    FROM sales\n",
    ") ranked\n",
    "WHERE rank = 1\n",
    "ORDER BY total_sold DESC;\n",
    "\"\"\"\n",
    "\n",
    "\n",
    "# Ejecutar consulta\n",
    "df = pd.read_sql_query(query, engine)\n",
    "\n",
    "# Mostrar resultados\n",
    "print(df)"
   ]
  },
  {
   "cell_type": "code",
   "execution_count": 44,
   "id": "4641e4db-8501-487c-bfda-45f7fadaa996",
   "metadata": {},
   "outputs": [
    {
     "name": "stdout",
     "output_type": "stream",
     "text": [
      "   customer_state                         seller_id  total_sales\n",
      "0              MG  1f50f920176fa81dab994f9023523100          256\n",
      "1              MG  4a3ca9315b744ce9f8e9374361493884          251\n",
      "2              MG  6560211a19b47992c3666cc44a7e94c0          213\n",
      "3              MG  a1043bafd471dff536d0c462352beb48          200\n",
      "4              MG  1025f0e2d44d7041d6cf58b6550e0bfa          199\n",
      "5              RJ  4a3ca9315b744ce9f8e9374361493884          292\n",
      "6              RJ  1f50f920176fa81dab994f9023523100          282\n",
      "7              RJ  7c67e1448b00f6e969d365cea6b010ab          260\n",
      "8              RJ  4869f7a5dfa277a7dca6462dcf3b52b2          207\n",
      "9              RJ  6560211a19b47992c3666cc44a7e94c0          206\n",
      "10             SP  6560211a19b47992c3666cc44a7e94c0          880\n",
      "11             SP  4a3ca9315b744ce9f8e9374361493884          878\n",
      "12             SP  da8622b14eb17ae2831f4ac5b9dab84a          831\n",
      "13             SP  955fee9216a65b617aa5c0531780ce60          729\n",
      "14             SP  1f50f920176fa81dab994f9023523100          677\n"
     ]
    }
   ],
   "source": [
    "# Este análisis muestra los 5 vendedores con más ventas en cada uno\n",
    "# de los 3 estados principales (mercados más grandes).\n",
    "query = \"\"\"\n",
    "WITH market_size AS (\n",
    "    SELECT cu.customer_state,\n",
    "           COUNT(o.order_id) AS total_orders\n",
    "    FROM customers AS cu\n",
    "    JOIN orders AS o ON cu.customer_id = o.customer_id\n",
    "    WHERE o.order_status = 'delivered'\n",
    "    GROUP BY cu.customer_state\n",
    "    ORDER BY total_orders DESC\n",
    "    LIMIT 3\n",
    "),\n",
    "seller_sales AS (\n",
    "    SELECT cu.customer_state,\n",
    "           oi.seller_id,\n",
    "           COUNT(oi.order_id) AS total_sales\n",
    "    FROM customers AS cu\n",
    "    JOIN orders AS o ON cu.customer_id = o.customer_id\n",
    "    JOIN order_items AS oi ON o.order_id = oi.order_id\n",
    "    WHERE o.order_status = 'delivered'\n",
    "    GROUP BY cu.customer_state, oi.seller_id\n",
    ")\n",
    "SELECT customer_state, seller_id, total_sales\n",
    "FROM (\n",
    "    SELECT ss.customer_state,\n",
    "           ss.seller_id,\n",
    "           ss.total_sales,\n",
    "           ROW_NUMBER() OVER (PARTITION BY ss.customer_state ORDER BY ss.total_sales DESC) AS rank\n",
    "    FROM seller_sales ss\n",
    "    JOIN market_size ms ON ss.customer_state = ms.customer_state\n",
    ") ranked\n",
    "WHERE rank <= 5\n",
    "ORDER BY customer_state, total_sales DESC;\n",
    "\"\"\"\n",
    "\n",
    "# Ejecutar consulta\n",
    "df = pd.read_sql_query(query, engine)\n",
    "\n",
    "# Mostrar resultados\n",
    "print(df)"
   ]
  },
  {
   "cell_type": "code",
   "execution_count": null,
   "id": "a4e32224-fdbb-4b86-8af2-59551d0de186",
   "metadata": {},
   "outputs": [],
   "source": []
  },
  {
   "cell_type": "code",
   "execution_count": null,
   "id": "d0273351-5aad-459b-b08b-7edcc4fd2285",
   "metadata": {},
   "outputs": [],
   "source": []
  },
  {
   "cell_type": "code",
   "execution_count": null,
   "id": "628807b3-b819-4ae6-9444-d0e93636e3df",
   "metadata": {},
   "outputs": [],
   "source": []
  },
  {
   "cell_type": "code",
   "execution_count": null,
   "id": "f3826e7e-f9e8-41f3-8f5c-053a2f435688",
   "metadata": {},
   "outputs": [],
   "source": []
  },
  {
   "cell_type": "code",
   "execution_count": null,
   "id": "dc6d4f05-8350-4aa1-b716-8e5e751e6a27",
   "metadata": {},
   "outputs": [],
   "source": []
  },
  {
   "cell_type": "code",
   "execution_count": null,
   "id": "9126bf24-14d5-4cce-a1ca-56abe6e98b96",
   "metadata": {},
   "outputs": [],
   "source": []
  },
  {
   "cell_type": "code",
   "execution_count": null,
   "id": "1850ced6-ee4b-41f5-b367-82d6aa8ecd73",
   "metadata": {},
   "outputs": [],
   "source": []
  },
  {
   "cell_type": "code",
   "execution_count": null,
   "id": "8799938a-0f1f-4a6d-aced-e3e7c56fa9c5",
   "metadata": {},
   "outputs": [],
   "source": []
  },
  {
   "cell_type": "code",
   "execution_count": null,
   "id": "962ab4de-9a43-4c04-acd3-55d74d295ffd",
   "metadata": {},
   "outputs": [],
   "source": []
  }
 ],
 "metadata": {
  "kernelspec": {
   "display_name": "Python 3 (ipykernel)",
   "language": "python",
   "name": "python3"
  },
  "language_info": {
   "codemirror_mode": {
    "name": "ipython",
    "version": 3
   },
   "file_extension": ".py",
   "mimetype": "text/x-python",
   "name": "python",
   "nbconvert_exporter": "python",
   "pygments_lexer": "ipython3",
   "version": "3.13.5"
  }
 },
 "nbformat": 4,
 "nbformat_minor": 5
}
